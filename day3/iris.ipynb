{
 "metadata": {
  "language_info": {
   "codemirror_mode": {
    "name": "ipython",
    "version": 3
   },
   "file_extension": ".py",
   "mimetype": "text/x-python",
   "name": "python",
   "nbconvert_exporter": "python",
   "pygments_lexer": "ipython3",
   "version": "3.6.8-final"
  },
  "orig_nbformat": 2,
  "kernelspec": {
   "name": "Python 3.6.8 64-bit",
   "display_name": "Python 3.6.8 64-bit",
   "metadata": {
    "interpreter": {
     "hash": "aee8b7b246df8f9039afb4144a1f6fd8d2ca17a180786b69acc140d282b71a49"
    }
   }
  }
 },
 "nbformat": 4,
 "nbformat_minor": 2,
 "cells": [
  {
   "cell_type": "code",
   "execution_count": 1,
   "metadata": {},
   "outputs": [
    {
     "output_type": "stream",
     "name": "stdout",
     "text": [
      "     PetalLength  PetalWidth  SepalLength  SepalWidth\n0            5.1         3.5          1.4         0.2\n1            4.9         3.0          1.4         0.2\n2            4.7         3.2          1.3         0.2\n3            4.6         3.1          1.5         0.2\n4            5.0         3.6          1.4         0.2\n..           ...         ...          ...         ...\n145          6.7         3.0          5.2         2.3\n146          6.3         2.5          5.0         1.9\n147          6.5         3.0          5.2         2.0\n148          6.2         3.4          5.4         2.3\n149          5.9         3.0          5.1         1.8\n\n[150 rows x 4 columns]\n"
     ]
    }
   ],
   "source": [
    "import pandas \n",
    "iris = pandas.read_csv('https://raw.githubusercontent.com/ltdaovn/dataset/master/flowers.csv')\n",
    "print(iris)"
   ]
  },
  {
   "cell_type": "code",
   "execution_count": 2,
   "metadata": {},
   "outputs": [
    {
     "output_type": "stream",
     "name": "stdout",
     "text": [
      "[1 1 1 1 1 1 1 1 1 1 1 1 1 1 1 1 1 1 1 1 1 1 1 1 1 1 1 1 1 1 1 1 1 1 1 1 1\n 1 1 1 1 1 1 1 1 1 1 1 1 1 0 0 2 0 0 0 0 0 0 0 0 0 0 0 0 0 0 0 0 0 0 0 0 0\n 0 0 0 2 0 0 0 0 0 0 0 0 0 0 0 0 0 0 0 0 0 0 0 0 0 0 2 0 2 2 2 2 0 2 2 2 2\n 2 2 0 0 2 2 2 2 0 2 0 2 0 2 2 0 0 2 2 2 2 2 0 2 2 2 2 0 2 2 2 0 2 2 2 0 2\n 2 0]\n"
     ]
    }
   ],
   "source": [
    "from sklearn.cluster import KMeans\n",
    "kmean_model = KMeans(n_clusters=3).fit(iris)\n",
    "print(kmean_model.predict(iris))"
   ]
  }
 ]
}