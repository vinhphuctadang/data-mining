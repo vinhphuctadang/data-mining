{
 "metadata": {
  "language_info": {
   "codemirror_mode": {
    "name": "ipython",
    "version": 3
   },
   "file_extension": ".py",
   "mimetype": "text/x-python",
   "name": "python",
   "nbconvert_exporter": "python",
   "pygments_lexer": "ipython3",
   "version": "3.6.8-final"
  },
  "orig_nbformat": 2,
  "kernelspec": {
   "name": "Python 3.6.8 64-bit",
   "display_name": "Python 3.6.8 64-bit",
   "metadata": {
    "interpreter": {
     "hash": "aee8b7b246df8f9039afb4144a1f6fd8d2ca17a180786b69acc140d282b71a49"
    }
   }
  }
 },
 "nbformat": 4,
 "nbformat_minor": 2,
 "cells": [
  {
   "cell_type": "code",
   "execution_count": 4,
   "metadata": {},
   "outputs": [
    {
     "output_type": "stream",
     "name": "stdout",
     "text": [
      "       Unnamed: 0          PRODUCT_CATE     PROVINCE  ORDER_COST  \\\n0               0  ĐIỆN MÁY & CÔNG NGHỆ  Hồ Chí Minh  20780000.0   \n1               1  ĐIỆN MÁY & CÔNG NGHỆ       Hà Nội     50000.0   \n2               2             THỰC PHẨM  Hồ Chí Minh    955000.0   \n3               3    SỨC KHỎE & SẮC ĐẸP  Hồ Chí Minh    152000.0   \n4               4             THỰC PHẨM       Hà Nội    460162.0   \n...           ...                   ...          ...         ...   \n92008       92008    SỨC KHỎE & SẮC ĐẸP       Hà Nội    173400.0   \n92009       92009    NHÀ CỬA & ĐỜI SỐNG       Hà Nội    150540.0   \n92010       92010    NHÀ CỬA & ĐỜI SỐNG       Hà Nội  32500000.0   \n92011       92011       Voucher dịch vụ       Hà Nội    501000.0   \n92012       92012  ĐIỆN MÁY & CÔNG NGHỆ       Hà Nội   1600000.0   \n\n                ORDER_DATE  ORDER_ID     CUST_ID  \n0      2018-07-22 15:47:00  KHA35965  CUS0000000  \n1      2018-08-05 20:21:29  KHA04585  CUS0000001  \n2      2018-07-14 09:33:05  KHA75581  CUS0000002  \n3      2018-07-14 06:59:24  KHA75580  CUS0000002  \n4      2018-07-09 15:17:10  KHA62856  CUS0000003  \n...                    ...       ...         ...  \n92008  2018-07-25 17:19:34  KHA19041  CUS0075036  \n92009  2018-08-06 09:51:03  KHA44535  CUS0075037  \n92010  2018-07-06 14:12:41  KHA76906  CUS0075038  \n92011  2018-08-01 18:06:35  KHA54162  CUS0075039  \n92012  2018-07-04 10:46:31  KHA07724  CUS0075040  \n\n[92013 rows x 7 columns]\n"
     ]
    }
   ],
   "source": [
    "import pandas \n",
    "df = pandas.read_csv('https://raw.githubusercontent.com/ltdaovn/dataset/master/ABC_customerSpending.csv')\n",
    "print(df)\n"
   ]
  },
  {
   "cell_type": "code",
   "execution_count": 6,
   "metadata": {},
   "outputs": [],
   "source": [
    "X = df.loc[:, ['PRODUCT_CATE', 'PROVINCE', 'ORDER_COST']]"
   ]
  },
  {
   "cell_type": "code",
   "execution_count": 7,
   "metadata": {},
   "outputs": [
    {
     "output_type": "stream",
     "name": "stdout",
     "text": [
      "               PRODUCT_CATE     PROVINCE  ORDER_COST\n0      ĐIỆN MÁY & CÔNG NGHỆ  Hồ Chí Minh  20780000.0\n1      ĐIỆN MÁY & CÔNG NGHỆ       Hà Nội     50000.0\n2                 THỰC PHẨM  Hồ Chí Minh    955000.0\n3        SỨC KHỎE & SẮC ĐẸP  Hồ Chí Minh    152000.0\n4                 THỰC PHẨM       Hà Nội    460162.0\n...                     ...          ...         ...\n92008    SỨC KHỎE & SẮC ĐẸP       Hà Nội    173400.0\n92009    NHÀ CỬA & ĐỜI SỐNG       Hà Nội    150540.0\n92010    NHÀ CỬA & ĐỜI SỐNG       Hà Nội  32500000.0\n92011       Voucher dịch vụ       Hà Nội    501000.0\n92012  ĐIỆN MÁY & CÔNG NGHỆ       Hà Nội   1600000.0\n\n[92013 rows x 3 columns]\n"
     ]
    }
   ],
   "source": [
    "print(X)"
   ]
  }
 ]
}